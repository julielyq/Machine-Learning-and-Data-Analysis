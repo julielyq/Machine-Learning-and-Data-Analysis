{
 "cells": [
  {
   "cell_type": "markdown",
   "metadata": {},
   "source": [
    "# Problem Set 4 Yunqiu(Julie) Li"
   ]
  },
  {
   "cell_type": "code",
   "execution_count": 1,
   "metadata": {},
   "outputs": [],
   "source": [
    "import pandas as pd\n",
    "import numpy as np\n",
    "from sklearn.naive_bayes import GaussianNB\n",
    "from sklearn.model_selection import train_test_split\n",
    "from sklearn.tree import DecisionTreeClassifier\n",
    "from sklearn.discriminant_analysis import LinearDiscriminantAnalysis\n",
    "from sklearn.discriminant_analysis import QuadraticDiscriminantAnalysis\n",
    "from sklearn.svm import LinearSVC\n",
    "from sklearn.svm import SVC\n",
    "from sklearn.linear_model import LogisticRegression\n",
    "from sklearn.neighbors import KNeighborsClassifier"
   ]
  },
  {
   "cell_type": "code",
   "execution_count": 2,
   "metadata": {},
   "outputs": [
    {
     "name": "stdout",
     "output_type": "stream",
     "text": [
      "(12450, 23)\n",
      "0.5330923694779116\n"
     ]
    }
   ],
   "source": [
    "# load default data set\n",
    "credit = pd.read_csv(\"defaultBal.csv\")\n",
    "# set up data for scikit-learn\n",
    "# note:  You don't really have to use X,y\n",
    "# this is our target\n",
    "y = credit.default\n",
    "# These are predictors (skip id)\n",
    "Xall= credit.values[:,1:24]\n",
    "# copy of all data to predictor\n",
    "X = Xall.copy()\n",
    "# Set up as just real values, use this for last part of problem\n",
    "# Restricts predictor to only real values (not discrete)\n",
    "# X = Xall[:,12:23].copy()\n",
    "print(X.shape)\n",
    "print(np.mean(y))\n",
    "yGuess = np.mean(y)"
   ]
  },
  {
   "cell_type": "code",
   "execution_count": 3,
   "metadata": {},
   "outputs": [
    {
     "data": {
      "text/html": [
       "<div>\n",
       "<style scoped>\n",
       "    .dataframe tbody tr th:only-of-type {\n",
       "        vertical-align: middle;\n",
       "    }\n",
       "\n",
       "    .dataframe tbody tr th {\n",
       "        vertical-align: top;\n",
       "    }\n",
       "\n",
       "    .dataframe thead th {\n",
       "        text-align: right;\n",
       "    }\n",
       "</style>\n",
       "<table border=\"1\" class=\"dataframe\">\n",
       "  <thead>\n",
       "    <tr style=\"text-align: right;\">\n",
       "      <th></th>\n",
       "      <th>id</th>\n",
       "      <th>LIMIT_BAL</th>\n",
       "      <th>SEX</th>\n",
       "      <th>EDUCATION</th>\n",
       "      <th>MARRIAGE</th>\n",
       "      <th>AGE</th>\n",
       "      <th>PAY_0</th>\n",
       "      <th>PAY_2</th>\n",
       "      <th>PAY_3</th>\n",
       "      <th>PAY_4</th>\n",
       "      <th>...</th>\n",
       "      <th>BILL_AMT4</th>\n",
       "      <th>BILL_AMT5</th>\n",
       "      <th>BILL_AMT6</th>\n",
       "      <th>PAY_AMT1</th>\n",
       "      <th>PAY_AMT2</th>\n",
       "      <th>PAY_AMT3</th>\n",
       "      <th>PAY_AMT4</th>\n",
       "      <th>PAY_AMT5</th>\n",
       "      <th>PAY_AMT6</th>\n",
       "      <th>default</th>\n",
       "    </tr>\n",
       "  </thead>\n",
       "  <tbody>\n",
       "    <tr>\n",
       "      <th>0</th>\n",
       "      <td>1</td>\n",
       "      <td>20000</td>\n",
       "      <td>2</td>\n",
       "      <td>2</td>\n",
       "      <td>1</td>\n",
       "      <td>24</td>\n",
       "      <td>2</td>\n",
       "      <td>2</td>\n",
       "      <td>-1</td>\n",
       "      <td>-1</td>\n",
       "      <td>...</td>\n",
       "      <td>0</td>\n",
       "      <td>0</td>\n",
       "      <td>0</td>\n",
       "      <td>0</td>\n",
       "      <td>689</td>\n",
       "      <td>0</td>\n",
       "      <td>0</td>\n",
       "      <td>0</td>\n",
       "      <td>0</td>\n",
       "      <td>1</td>\n",
       "    </tr>\n",
       "    <tr>\n",
       "      <th>1</th>\n",
       "      <td>1</td>\n",
       "      <td>20000</td>\n",
       "      <td>2</td>\n",
       "      <td>2</td>\n",
       "      <td>1</td>\n",
       "      <td>24</td>\n",
       "      <td>2</td>\n",
       "      <td>2</td>\n",
       "      <td>-1</td>\n",
       "      <td>-1</td>\n",
       "      <td>...</td>\n",
       "      <td>0</td>\n",
       "      <td>0</td>\n",
       "      <td>0</td>\n",
       "      <td>0</td>\n",
       "      <td>689</td>\n",
       "      <td>0</td>\n",
       "      <td>0</td>\n",
       "      <td>0</td>\n",
       "      <td>0</td>\n",
       "      <td>1</td>\n",
       "    </tr>\n",
       "    <tr>\n",
       "      <th>2</th>\n",
       "      <td>2</td>\n",
       "      <td>120000</td>\n",
       "      <td>2</td>\n",
       "      <td>2</td>\n",
       "      <td>2</td>\n",
       "      <td>26</td>\n",
       "      <td>-1</td>\n",
       "      <td>2</td>\n",
       "      <td>0</td>\n",
       "      <td>0</td>\n",
       "      <td>...</td>\n",
       "      <td>3272</td>\n",
       "      <td>3455</td>\n",
       "      <td>3261</td>\n",
       "      <td>0</td>\n",
       "      <td>1000</td>\n",
       "      <td>1000</td>\n",
       "      <td>1000</td>\n",
       "      <td>0</td>\n",
       "      <td>2000</td>\n",
       "      <td>1</td>\n",
       "    </tr>\n",
       "    <tr>\n",
       "      <th>3</th>\n",
       "      <td>6</td>\n",
       "      <td>50000</td>\n",
       "      <td>1</td>\n",
       "      <td>1</td>\n",
       "      <td>2</td>\n",
       "      <td>37</td>\n",
       "      <td>0</td>\n",
       "      <td>0</td>\n",
       "      <td>0</td>\n",
       "      <td>0</td>\n",
       "      <td>...</td>\n",
       "      <td>19394</td>\n",
       "      <td>19619</td>\n",
       "      <td>20024</td>\n",
       "      <td>2500</td>\n",
       "      <td>1815</td>\n",
       "      <td>657</td>\n",
       "      <td>1000</td>\n",
       "      <td>1000</td>\n",
       "      <td>800</td>\n",
       "      <td>0</td>\n",
       "    </tr>\n",
       "    <tr>\n",
       "      <th>4</th>\n",
       "      <td>9</td>\n",
       "      <td>140000</td>\n",
       "      <td>2</td>\n",
       "      <td>3</td>\n",
       "      <td>1</td>\n",
       "      <td>28</td>\n",
       "      <td>0</td>\n",
       "      <td>0</td>\n",
       "      <td>2</td>\n",
       "      <td>0</td>\n",
       "      <td>...</td>\n",
       "      <td>12211</td>\n",
       "      <td>11793</td>\n",
       "      <td>3719</td>\n",
       "      <td>3329</td>\n",
       "      <td>0</td>\n",
       "      <td>432</td>\n",
       "      <td>1000</td>\n",
       "      <td>1000</td>\n",
       "      <td>1000</td>\n",
       "      <td>0</td>\n",
       "    </tr>\n",
       "  </tbody>\n",
       "</table>\n",
       "<p>5 rows × 25 columns</p>\n",
       "</div>"
      ],
      "text/plain": [
       "   id  LIMIT_BAL  SEX  EDUCATION  MARRIAGE  AGE  PAY_0  PAY_2  PAY_3  PAY_4  \\\n",
       "0   1      20000    2          2         1   24      2      2     -1     -1   \n",
       "1   1      20000    2          2         1   24      2      2     -1     -1   \n",
       "2   2     120000    2          2         2   26     -1      2      0      0   \n",
       "3   6      50000    1          1         2   37      0      0      0      0   \n",
       "4   9     140000    2          3         1   28      0      0      2      0   \n",
       "\n",
       "    ...     BILL_AMT4  BILL_AMT5  BILL_AMT6  PAY_AMT1  PAY_AMT2  PAY_AMT3  \\\n",
       "0   ...             0          0          0         0       689         0   \n",
       "1   ...             0          0          0         0       689         0   \n",
       "2   ...          3272       3455       3261         0      1000      1000   \n",
       "3   ...         19394      19619      20024      2500      1815       657   \n",
       "4   ...         12211      11793       3719      3329         0       432   \n",
       "\n",
       "   PAY_AMT4  PAY_AMT5  PAY_AMT6  default  \n",
       "0         0         0         0        1  \n",
       "1         0         0         0        1  \n",
       "2      1000         0      2000        1  \n",
       "3      1000      1000       800        0  \n",
       "4      1000      1000      1000        0  \n",
       "\n",
       "[5 rows x 25 columns]"
      ]
     },
     "execution_count": 3,
     "metadata": {},
     "output_type": "execute_result"
    }
   ],
   "source": [
    "credit.head()"
   ]
  },
  {
   "cell_type": "code",
   "execution_count": 4,
   "metadata": {},
   "outputs": [],
   "source": [
    "# Note:Use test_size=0.25 throughout\n",
    "X_train, X_test, y_train, y_test = train_test_split(X,y,test_size=0.25)"
   ]
  },
  {
   "cell_type": "markdown",
   "metadata": {},
   "source": [
    "##  Naive Bayes example"
   ]
  },
  {
   "cell_type": "code",
   "execution_count": 5,
   "metadata": {},
   "outputs": [
    {
     "name": "stdout",
     "output_type": "stream",
     "text": [
      "0.566241833565385\n",
      "0.5778991326694507\n"
     ]
    }
   ],
   "source": [
    "# Try a naive Bayes classifier\n",
    "gnb = GaussianNB()\n",
    "trainFit = gnb.fit(X_train,y_train)\n",
    "print(trainFit.score(X_train,y_train))\n",
    "print(trainFit.score(X_test, y_test))"
   ]
  },
  {
   "cell_type": "code",
   "execution_count": 8,
   "metadata": {},
   "outputs": [
    {
     "name": "stdout",
     "output_type": "stream",
     "text": [
      "0.5658391346256828\n",
      "0.0031036734810529288\n",
      "0.5644201734661098\n",
      "0.0031036734810529288\n",
      "1.0\n"
     ]
    }
   ],
   "source": [
    "# start monte-carlo for GaussianNB()\n",
    "nmc = 50\n",
    "trainScore = np.zeros(nmc)\n",
    "testScore  = np.zeros(nmc)\n",
    "gnb = GaussianNB()\n",
    "for i in range(nmc):\n",
    "    X_train, X_test, y_train, y_test = train_test_split(X,y,test_size=0.25)\n",
    "    trainFit = gnb.fit(X_train,y_train)\n",
    "    trainScore[i] = trainFit.score(X_train,y_train)\n",
    "    testScore[i] =  trainFit.score(X_test,y_test)\n",
    "print(np.mean(trainScore))\n",
    "print(np.std(trainScore))\n",
    "print(np.mean(testScore))\n",
    "print(np.std(trainScore))\n",
    "print(np.mean(testScore>yGuess))"
   ]
  },
  {
   "cell_type": "markdown",
   "metadata": {},
   "source": [
    "### Problem 1: Repeat the monte-carlo with a LinearDiscriminant classifier. Report means, std’s, and probability of beating a benchmark classifier which guesses 1 all the time."
   ]
  },
  {
   "cell_type": "code",
   "execution_count": 23,
   "metadata": {},
   "outputs": [
    {
     "name": "stdout",
     "output_type": "stream",
     "text": [
      "Training accuracy : 0.575\n",
      "Training standard deviation : 0.005\n",
      "Testing accuracy : 0.572\n",
      "Testing standard deviation : 0.008\n",
      "Probability of beating a benchmark classifier which guesses 1 all the time : 1.000\n"
     ]
    }
   ],
   "source": [
    "for i in range(nmc):\n",
    "    X_train, X_test, y_train, y_test = train_test_split(X,y,test_size=0.25)\n",
    "    lda = LinearDiscriminantAnalysis().fit(X_train,y_train)\n",
    "    trainScore[i] = lda.score(X_train,y_train)\n",
    "    testScore[i] =  lda.score(X_test,y_test)\n",
    "print(\"Training accuracy : {:.3f}\".format(np.mean(trainScore)))\n",
    "print(\"Training standard deviation : {:.3f}\".format(np.std(trainScore)))\n",
    "print(\"Testing accuracy : {:.3f}\".format(np.mean(testScore)))\n",
    "print(\"Testing standard deviation : {:.3f}\".format(np.std(testScore)))\n",
    "print(\"Probability of beating a benchmark classifier which guesses 1 all the time : {:.3f}\".format(np.mean(testScore>yGuess)))"
   ]
  },
  {
   "cell_type": "markdown",
   "metadata": {},
   "source": [
    "### Problem 2: Repeat this with Logistic regression for C=100, C=1, C=0.01."
   ]
  },
  {
   "cell_type": "code",
   "execution_count": 24,
   "metadata": {},
   "outputs": [
    {
     "name": "stdout",
     "output_type": "stream",
     "text": [
      "When C = 100\n",
      "Training accuracy : 0.585\n",
      "Training standard deviation : 0.006\n",
      "Testing accuracy : 0.583\n",
      "Testing standard deviation : 0.009\n",
      "Probability of beating a benchmark classifier which guesses 1 all the time : 1.000\n"
     ]
    }
   ],
   "source": [
    "### run regression individually for difference values of C instead of using for loop, because running for loop would long time.\n",
    "C = 100\n",
    "for i in range(nmc):\n",
    "    X_train, X_test, y_train, y_test = train_test_split(X,y,test_size=0.25)\n",
    "    LR = LogisticRegression(C=C).fit(X_train,y_train)\n",
    "    trainScore[i] = LR.score(X_train,y_train)\n",
    "    testScore[i] =  LR.score(X_test,y_test)\n",
    "print(\"When C = \" + str(C))\n",
    "print(\"Training accuracy : {:.3f}\".format(np.mean(trainScore)))\n",
    "print(\"Training standard deviation : {:.3f}\".format(np.std(trainScore)))\n",
    "print(\"Testing accuracy : {:.3f}\".format(np.mean(testScore)))\n",
    "print(\"Testing standard deviation : {:.3f}\".format(np.std(testScore)))\n",
    "print(\"Probability of beating a benchmark classifier which guesses 1 all the time : {:.3f}\".format(np.mean(testScore>yGuess)))"
   ]
  },
  {
   "cell_type": "code",
   "execution_count": 25,
   "metadata": {},
   "outputs": [
    {
     "name": "stdout",
     "output_type": "stream",
     "text": [
      "When C = 1\n",
      "Training accuracy : 0.584\n",
      "Training standard deviation : 0.007\n",
      "Testing accuracy : 0.583\n",
      "Testing standard deviation : 0.008\n",
      "Probability of beating a benchmark classifier which guesses 1 all the time : 1.000\n"
     ]
    }
   ],
   "source": [
    "C = 1\n",
    "for i in range(nmc):\n",
    "    X_train, X_test, y_train, y_test = train_test_split(X,y,test_size=0.25)\n",
    "    LR = LogisticRegression(C=C).fit(X_train,y_train)\n",
    "    trainScore[i] = LR.score(X_train,y_train)\n",
    "    testScore[i] =  LR.score(X_test,y_test)\n",
    "print(\"When C = \" + str(C))\n",
    "print(\"Training accuracy : {:.3f}\".format(np.mean(trainScore)))\n",
    "print(\"Training standard deviation : {:.3f}\".format(np.std(trainScore)))\n",
    "print(\"Testing accuracy : {:.3f}\".format(np.mean(testScore)))\n",
    "print(\"Testing standard deviation : {:.3f}\".format(np.std(testScore)))\n",
    "print(\"Probability of beating a benchmark classifier which guesses 1 all the time : {:.3f}\".\n",
    "      format(np.mean(testScore>yGuess)))"
   ]
  },
  {
   "cell_type": "code",
   "execution_count": 26,
   "metadata": {},
   "outputs": [
    {
     "name": "stdout",
     "output_type": "stream",
     "text": [
      "When C = 0.01\n",
      "Training accuracy : 0.584\n",
      "Training standard deviation : 0.008\n",
      "Testing accuracy : 0.583\n",
      "Testing standard deviation : 0.008\n",
      "Probability of beating a benchmark classifier which guesses 1 all the time : 1.000\n"
     ]
    }
   ],
   "source": [
    "C = 0.01\n",
    "for i in range(nmc):\n",
    "    X_train, X_test, y_train, y_test = train_test_split(X,y,test_size=0.25)\n",
    "    LR = LogisticRegression(C=0.01).fit(X_train,y_train)\n",
    "    trainScore[i] = LR.score(X_train,y_train)\n",
    "    testScore[i] =  LR.score(X_test,y_test)\n",
    "print(\"When C = \" + str(C))\n",
    "print(\"Training accuracy : {:.3f}\".format(np.mean(trainScore)))\n",
    "print(\"Training standard deviation : {:.3f}\".format(np.std(trainScore)))\n",
    "print(\"Testing accuracy : {:.3f}\".format(np.mean(testScore)))\n",
    "print(\"Testing standard deviation : {:.3f}\".format(np.std(testScore)))\n",
    "print(\"Probability of beating a benchmark classifier which guesses 1 all the time : {:.3f}\".format(np.mean(testScore>yGuess)))"
   ]
  },
  {
   "cell_type": "markdown",
   "metadata": {},
   "source": [
    "### Problem 3: Repeat this for a LinearSVC with C = 100, C=1, C=0.01"
   ]
  },
  {
   "cell_type": "code",
   "execution_count": 27,
   "metadata": {},
   "outputs": [
    {
     "name": "stdout",
     "output_type": "stream",
     "text": [
      "When C = 100\n",
      "Training accuracy : 0.531\n",
      "Training standard deviation : 0.036\n",
      "Testing accuracy : 0.530\n",
      "Testing standard deviation : 0.037\n",
      "Probability of beating a benchmark classifier which guesses 1 all the time : 0.580\n"
     ]
    }
   ],
   "source": [
    "C = 100\n",
    "for i in range(nmc):\n",
    "    X_train, X_test, y_train, y_test = train_test_split(X,y,test_size=0.25)\n",
    "    LinSVC = LinearSVC(C=C).fit(X_train,y_train)\n",
    "    trainScore[i] = LinSVC.score(X_train,y_train)\n",
    "    testScore[i] =  LinSVC.score(X_test,y_test)\n",
    "print(\"When C = \" + str(C))\n",
    "print(\"Training accuracy : {:.3f}\".format(np.mean(trainScore)))\n",
    "print(\"Training standard deviation : {:.3f}\".format(np.std(trainScore)))\n",
    "print(\"Testing accuracy : {:.3f}\".format(np.mean(testScore)))\n",
    "print(\"Testing standard deviation : {:.3f}\".format(np.std(testScore)))\n",
    "print(\"Probability of beating a benchmark classifier which guesses 1 all the time : {:.3f}\".format(np.mean(testScore>yGuess)))"
   ]
  },
  {
   "cell_type": "code",
   "execution_count": 28,
   "metadata": {},
   "outputs": [
    {
     "name": "stdout",
     "output_type": "stream",
     "text": [
      "When C = 1\n",
      "Training accuracy : 0.526\n",
      "Training standard deviation : 0.035\n",
      "Testing accuracy : 0.528\n",
      "Testing standard deviation : 0.038\n",
      "Probability of beating a benchmark classifier which guesses 1 all the time : 0.500\n"
     ]
    }
   ],
   "source": [
    "C = 1\n",
    "for i in range(nmc):\n",
    "    X_train, X_test, y_train, y_test = train_test_split(X,y,test_size=0.25)\n",
    "    LinSVC = LinearSVC(C=C).fit(X_train,y_train)\n",
    "    trainScore[i] = LinSVC.score(X_train,y_train)\n",
    "    testScore[i] =  LinSVC.score(X_test,y_test)\n",
    "print(\"When C = \" + str(C))\n",
    "print(\"Training accuracy : {:.3f}\".format(np.mean(trainScore)))\n",
    "print(\"Training standard deviation : {:.3f}\".format(np.std(trainScore)))\n",
    "print(\"Testing accuracy : {:.3f}\".format(np.mean(testScore)))\n",
    "print(\"Testing standard deviation : {:.3f}\".format(np.std(testScore)))\n",
    "print(\"Probability of beating a benchmark classifier which guesses 1 all the time : {:.3f}\".format(np.mean(testScore>yGuess)))"
   ]
  },
  {
   "cell_type": "code",
   "execution_count": 29,
   "metadata": {},
   "outputs": [
    {
     "name": "stdout",
     "output_type": "stream",
     "text": [
      "When C = 0.01\n",
      "Training accuracy : 0.528\n",
      "Training standard deviation : 0.043\n",
      "Testing accuracy : 0.526\n",
      "Testing standard deviation : 0.042\n",
      "Probability of beating a benchmark classifier which guesses 1 all the time : 0.560\n"
     ]
    }
   ],
   "source": [
    "C = 0.01\n",
    "for i in range(nmc):\n",
    "    X_train, X_test, y_train, y_test = train_test_split(X,y,test_size=0.25)\n",
    "    LinSVC = LinearSVC(C=C).fit(X_train,y_train)\n",
    "    trainScore[i] = LinSVC.score(X_train,y_train)\n",
    "    testScore[i] =  LinSVC.score(X_test,y_test)\n",
    "print(\"When C = \" + str(C))\n",
    "print(\"Training accuracy : {:.3f}\".format(np.mean(trainScore)))\n",
    "print(\"Training standard deviation : {:.3f}\".format(np.std(trainScore)))\n",
    "print(\"Testing accuracy : {:.3f}\".format(np.mean(testScore)))\n",
    "print(\"Testing standard deviation : {:.3f}\".format(np.std(testScore)))\n",
    "print(\"Probability of beating a benchmark classifier which guesses 1 all the time : {:.3f}\".format(np.mean(testScore>yGuess)))"
   ]
  },
  {
   "cell_type": "markdown",
   "metadata": {},
   "source": [
    "### Problem 4: Repeat this for KNeighborClassifier for n_neighbors = 3, 11, 25\n"
   ]
  },
  {
   "cell_type": "code",
   "execution_count": 16,
   "metadata": {},
   "outputs": [
    {
     "name": "stdout",
     "output_type": "stream",
     "text": [
      "When n_neighbors = 3\n",
      "Training accuracy : 0.779\n",
      "Training standard deviation : 0.003\n",
      "Testing accuracy : 0.570\n",
      "Testing standard deviation : 0.009\n",
      "Probability of beating a benchmark classifier which guesses 1 all the time : 1.000\n"
     ]
    }
   ],
   "source": [
    "n_neighbors = 3\n",
    "for i in range(nmc):\n",
    "    X_train, X_test, y_train, y_test = train_test_split(X,y,test_size=0.25)\n",
    "    KNN = KNeighborsClassifier(n_neighbors=n_neighbors).fit(X_train,y_train)\n",
    "    trainScore[i] = KNN.score(X_train,y_train)\n",
    "    testScore[i] =  KNN.score(X_test,y_test)\n",
    "print(\"When n_neighbors = \" + str(n_neighbors))\n",
    "print(\"Training accuracy : {:.3f}\".format(np.mean(trainScore)))\n",
    "print(\"Training standard deviation : {:.3f}\".format(np.std(trainScore)))\n",
    "print(\"Testing accuracy : {:.3f}\".format(np.mean(testScore)))\n",
    "print(\"Testing standard deviation : {:.3f}\".format(np.std(testScore)))\n",
    "print(\"Probability of beating a benchmark classifier which guesses 1 all the time : {:.3f}\".format(np.mean(testScore>yGuess)))"
   ]
  },
  {
   "cell_type": "code",
   "execution_count": 17,
   "metadata": {},
   "outputs": [
    {
     "name": "stdout",
     "output_type": "stream",
     "text": [
      "When n_neighbors = 11\n",
      "Training accuracy : 0.680\n",
      "Training standard deviation : 0.003\n",
      "Testing accuracy : 0.601\n",
      "Testing standard deviation : 0.008\n",
      "Probability of beating a benchmark classifier which guesses 1 all the time : 1.000\n"
     ]
    }
   ],
   "source": [
    "n_neighbors = 11\n",
    "for i in range(nmc):\n",
    "    X_train, X_test, y_train, y_test = train_test_split(X,y,test_size=0.25)\n",
    "    KNN = KNeighborsClassifier(n_neighbors=n_neighbors).fit(X_train,y_train)\n",
    "    trainScore[i] = KNN.score(X_train,y_train)\n",
    "    testScore[i] =  KNN.score(X_test,y_test)\n",
    "print(\"When n_neighbors = \" + str(n_neighbors))\n",
    "print(\"Training accuracy : {:.3f}\".format(np.mean(trainScore)))\n",
    "print(\"Training standard deviation : {:.3f}\".format(np.std(trainScore)))\n",
    "print(\"Testing accuracy : {:.3f}\".format(np.mean(testScore)))\n",
    "print(\"Testing standard deviation : {:.3f}\".format(np.std(testScore)))\n",
    "print(\"Probability of beating a benchmark classifier which guesses 1 all the time : {:.3f}\".format(np.mean(testScore>yGuess)))"
   ]
  },
  {
   "cell_type": "code",
   "execution_count": 18,
   "metadata": {},
   "outputs": [
    {
     "name": "stdout",
     "output_type": "stream",
     "text": [
      "When n_neighbors = 25\n",
      "Training accuracy : 0.650\n",
      "Training standard deviation : 0.003\n",
      "Testing accuracy : 0.608\n",
      "Testing standard deviation : 0.008\n",
      "Probability of beating a benchmark classifier which guesses 1 all the time : 1.000\n"
     ]
    }
   ],
   "source": [
    "n_neighbors = 25\n",
    "for i in range(nmc):\n",
    "    X_train, X_test, y_train, y_test = train_test_split(X,y,test_size=0.25)\n",
    "    KNN = KNeighborsClassifier(n_neighbors=n_neighbors).fit(X_train,y_train)\n",
    "    trainScore[i] = KNN.score(X_train,y_train)\n",
    "    testScore[i] =  KNN.score(X_test,y_test)\n",
    "print(\"When n_neighbors = \" + str(n_neighbors))\n",
    "print(\"Training accuracy : {:.3f}\".format(np.mean(trainScore)))\n",
    "print(\"Training standard deviation : {:.3f}\".format(np.std(trainScore)))\n",
    "print(\"Testing accuracy : {:.3f}\".format(np.mean(testScore)))\n",
    "print(\"Testing standard deviation : {:.3f}\".format(np.std(testScore)))\n",
    "print(\"Probability of beating a benchmark classifier which guesses 1 all the time : {:.3f}\".format(np.mean(testScore>yGuess)))"
   ]
  },
  {
   "cell_type": "markdown",
   "metadata": {},
   "source": [
    "### Problem 5: Repeat this for a Decision Tree with max_depth = 5, 10, 25\n"
   ]
  },
  {
   "cell_type": "code",
   "execution_count": 19,
   "metadata": {},
   "outputs": [
    {
     "name": "stdout",
     "output_type": "stream",
     "text": [
      "When max_depth = 5\n",
      "Training accuracy : 0.697\n",
      "Training standard deviation : 0.003\n",
      "Testing accuracy : 0.688\n",
      "Testing standard deviation : 0.009\n",
      "Probability of beating a benchmark classifier which guesses 1 all the time : 1.000\n",
      "When max_depth = 10\n",
      "Training accuracy : 0.698\n",
      "Training standard deviation : 0.004\n",
      "Testing accuracy : 0.689\n",
      "Testing standard deviation : 0.008\n",
      "Probability of beating a benchmark classifier which guesses 1 all the time : 1.000\n",
      "When max_depth = 25\n",
      "Training accuracy : 0.698\n",
      "Training standard deviation : 0.004\n",
      "Testing accuracy : 0.686\n",
      "Testing standard deviation : 0.009\n",
      "Probability of beating a benchmark classifier which guesses 1 all the time : 1.000\n"
     ]
    }
   ],
   "source": [
    "for max_depth in [5,10,25]:\n",
    "    for i in range(nmc):\n",
    "        X_train, X_test, y_train, y_test = train_test_split(X,y,test_size=0.25)\n",
    "        tree = DecisionTreeClassifier(max_depth=4).fit(X_train,y_train)\n",
    "        trainScore[i] = tree.score(X_train,y_train)\n",
    "        testScore[i] =  tree.score(X_test,y_test)\n",
    "    print(\"When max_depth = \" + str(max_depth))\n",
    "    print(\"Training accuracy : {:.3f}\".format(np.mean(trainScore)))\n",
    "    print(\"Training standard deviation : {:.3f}\".format(np.std(trainScore)))\n",
    "    print(\"Testing accuracy : {:.3f}\".format(np.mean(testScore)))\n",
    "    print(\"Testing standard deviation : {:.3f}\".format(np.std(testScore)))\n",
    "    print(\"Probability of beating a benchmark classifier which guesses 1 all the time : {:.3f}\".format(np.mean(testScore>yGuess)))"
   ]
  },
  {
   "cell_type": "markdown",
   "metadata": {},
   "source": [
    "### Prblem 6: Repeat the linear LinearDiscriminant, but use just the real valued data. See example file for line to move just these fields into X.\n"
   ]
  },
  {
   "cell_type": "code",
   "execution_count": 20,
   "metadata": {},
   "outputs": [
    {
     "name": "stdout",
     "output_type": "stream",
     "text": [
      "Training accuracy : 0.575\n",
      "Training standard deviation : 0.004\n",
      "Testing accuracy : 0.573\n",
      "Testing standard deviation : 0.009\n",
      "Probability of beating a benchmark classifier which guesses 1 all the time : 1.000\n"
     ]
    }
   ],
   "source": [
    "# Restricts predictor to only real values (not discrete)\n",
    "X = Xall[:,12:23].copy()\n",
    "for i in range(nmc):\n",
    "    X_train, X_test, y_train, y_test = train_test_split(X,y,test_size=0.25)\n",
    "    lda = LinearDiscriminantAnalysis().fit(X_train,y_train)\n",
    "    trainScore[i] = lda.score(X_train,y_train)\n",
    "    testScore[i] =  lda.score(X_test,y_test)\n",
    "print(\"Training accuracy : {:.3f}\".format(np.mean(trainScore)))\n",
    "print(\"Training standard deviation : {:.3f}\".format(np.std(trainScore)))\n",
    "print(\"Testing accuracy : {:.3f}\".format(np.mean(testScore)))\n",
    "print(\"Testing standard deviation : {:.3f}\".format(np.std(testScore)))\n",
    "print(\"Probability of beating a benchmark classifier which guesses 1 all the time : {:.3f}\".format(np.mean(testScore>yGuess)))"
   ]
  },
  {
   "cell_type": "markdown",
   "metadata": {},
   "source": [
    "### Problem 7: Using the mean test score from parts (1-5+GaussianNB), what was your best method (so far)?\n"
   ]
  },
  {
   "cell_type": "markdown",
   "metadata": {},
   "source": [
    "Decision Tree was my best method, because it has the best fit (highest score - approximate 0.68) for test data among all the classification methods, and there won't be overfitting problem (small gap bettwen train score and train score - train score : 0.69 vs. test score : 0.68).  "
   ]
  },
  {
   "cell_type": "code",
   "execution_count": null,
   "metadata": {},
   "outputs": [],
   "source": []
  }
 ],
 "metadata": {
  "kernelspec": {
   "display_name": "Python 3",
   "language": "python",
   "name": "python3"
  },
  "language_info": {
   "codemirror_mode": {
    "name": "ipython",
    "version": 3
   },
   "file_extension": ".py",
   "mimetype": "text/x-python",
   "name": "python",
   "nbconvert_exporter": "python",
   "pygments_lexer": "ipython3",
   "version": "3.6.5"
  }
 },
 "nbformat": 4,
 "nbformat_minor": 2
}
