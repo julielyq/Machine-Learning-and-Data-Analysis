{
 "cells": [
  {
   "cell_type": "markdown",
   "metadata": {},
   "source": [
    "# Problem Set 1  Yunqiu(Julie) Li"
   ]
  },
  {
   "cell_type": "code",
   "execution_count": 18,
   "metadata": {},
   "outputs": [],
   "source": [
    "import statistics as st\n",
    "import math as ma\n",
    "import numpy as np "
   ]
  },
  {
   "cell_type": "markdown",
   "metadata": {},
   "source": [
    "## Problem 1"
   ]
  },
  {
   "cell_type": "code",
   "execution_count": 19,
   "metadata": {},
   "outputs": [
    {
     "name": "stdout",
     "output_type": "stream",
     "text": [
      "22\n",
      "16.881943016134134\n"
     ]
    }
   ],
   "source": [
    "number_list_1 = range(-5, 50, 3) \n",
    "print(st.mean(number_list_1))\n",
    "print(st.stdev(number_list_1))"
   ]
  },
  {
   "cell_type": "markdown",
   "metadata": {},
   "source": [
    "## Problem 2"
   ]
  },
  {
   "cell_type": "code",
   "execution_count": 20,
   "metadata": {},
   "outputs": [
    {
     "name": "stdout",
     "output_type": "stream",
     "text": [
      "142.6723106687563\n"
     ]
    }
   ],
   "source": [
    "list_1to10 = range(1,11)\n",
    "print(sum(map(lambda i:i*ma.sqrt(i), list_1to10))) "
   ]
  },
  {
   "cell_type": "markdown",
   "metadata": {},
   "source": [
    "## Problem 3"
   ]
  },
  {
   "cell_type": "code",
   "execution_count": 21,
   "metadata": {},
   "outputs": [
    {
     "name": "stdout",
     "output_type": "stream",
     "text": [
      "[    3     9    27    81   243   729  2187  6561 19683 59049]\n",
      "88572\n"
     ]
    }
   ],
   "source": [
    "list_1to10_power = np.power(3,list_1to10)\n",
    "print(list_1to10_power)\n",
    "sum_of_power = np.sum(list_1to10_power)\n",
    "print(sum_of_power)"
   ]
  },
  {
   "cell_type": "markdown",
   "metadata": {},
   "source": [
    "## Problem 4"
   ]
  },
  {
   "cell_type": "code",
   "execution_count": 22,
   "metadata": {},
   "outputs": [
    {
     "name": "stdout",
     "output_type": "stream",
     "text": [
      "[3.4796106  2.65341996 3.69696769 2.00575704 3.96150018 2.4087298\n",
      " 2.77299325 2.45174264 2.03864008 3.3480811  2.98883113 3.13619828\n",
      " 2.90525105 3.07477521 3.47957686 3.90053393 2.16561761 3.70823798\n",
      " 3.57385662 2.80077564 2.60746793 3.9046249  2.32941134 2.65338749\n",
      " 3.26724632 3.25269603 2.36429988 3.02169392 3.79575174 3.53337012\n",
      " 3.46798924 2.6647823  2.27682129 3.6912701  2.72496219 3.6404761\n",
      " 3.14606239 2.28832105 3.60462111 3.9824647  2.57093865 3.90116298\n",
      " 2.26834358 3.48810273 3.31137293 3.06428129 3.28626053 2.74941837\n",
      " 2.31139694 3.8658368 ]\n",
      "[2.64005815 2.24965096 3.0608499  3.2890908  2.27806656 2.59541991\n",
      " 2.97726062 3.1491508  3.32225323 2.2464599  2.15289607 2.79615488\n",
      " 3.16565788 3.22050852 3.4802243  3.34875034 2.08173086 2.68426024\n",
      " 3.62691772 2.40933206 2.03075902 3.77032224 3.67042664 2.79339331\n",
      " 3.03405681 2.95432944 3.37844524 2.05097454 3.19003345 3.61115913\n",
      " 2.20233467 3.13281354 3.50431833 2.1574923  3.78759648 2.54836965\n",
      " 3.99359677 2.60608126 2.72796917 2.33535211 2.06858508 3.41517669\n",
      " 3.27159287 3.71907069 2.4731467  2.7496685  3.38718964 3.75873808\n",
      " 2.12847582 2.42482967]\n"
     ]
    }
   ],
   "source": [
    "# first time run\n",
    "s1 = np.random.uniform(2,4,50)\n",
    "print(s1)\n",
    "# second time run\n",
    "s2 = np.random.uniform(2,4,50)\n",
    "print(s2)"
   ]
  },
  {
   "cell_type": "markdown",
   "metadata": {},
   "source": [
    "If I run the function twice, the results are different. Because the np.random.uniform function draws samples from a uniform distribution randomly."
   ]
  },
  {
   "cell_type": "markdown",
   "metadata": {},
   "source": [
    "## Problem 5"
   ]
  },
  {
   "cell_type": "markdown",
   "metadata": {},
   "source": [
    "### Part a"
   ]
  },
  {
   "cell_type": "code",
   "execution_count": 35,
   "metadata": {},
   "outputs": [
    {
     "name": "stdout",
     "output_type": "stream",
     "text": [
      "5\n",
      "10\n",
      "15\n",
      "20\n",
      "25\n",
      "30\n",
      "35\n",
      "40\n",
      "45\n",
      "50\n",
      "55\n",
      "60\n",
      "65\n",
      "70\n",
      "75\n",
      "80\n",
      "85\n",
      "90\n",
      "95\n"
     ]
    }
   ],
   "source": [
    "\n",
    "for i in range(1,100):\n",
    "    reminder = (np.mod(i,5))\n",
    "    if reminder == 0:\n",
    "        print(i)\n"
   ]
  },
  {
   "cell_type": "markdown",
   "metadata": {},
   "source": [
    "### Part b"
   ]
  },
  {
   "cell_type": "code",
   "execution_count": 27,
   "metadata": {},
   "outputs": [
    {
     "name": "stdout",
     "output_type": "stream",
     "text": [
      "[ 5 10 15 20 25 30 35 40 45 50 55 60 65 70 75 80 85 90 95]\n"
     ]
    }
   ],
   "source": [
    "list_1to100  = np.array(range(1,100))\n",
    "reminder = (np.mod(list_1to100,5))\n",
    "print(list_1to100[reminder == 0])"
   ]
  },
  {
   "cell_type": "markdown",
   "metadata": {},
   "source": [
    "## Problem 6"
   ]
  },
  {
   "cell_type": "code",
   "execution_count": 36,
   "metadata": {},
   "outputs": [
    {
     "name": "stdout",
     "output_type": "stream",
     "text": [
      "{'MSFT': 100, 'AAPL': 50, 'IBM': 25}\n",
      "{'MSFT': 100, 'AAPL': 50, 'IBM': 25, 'GOOG': 200}\n",
      "{'MSFT': 100, 'AAPL': 50, 'IBM': 25, 'GOOG': array([1.2, 4.4, 6. ])}\n"
     ]
    }
   ],
   "source": [
    "ticker = ('MSFT','AAPL','IBM')\n",
    "earning = (100, 50, 25)\n",
    "stock_earning = dict(zip(ticker, earning))\n",
    "print(stock_earning)\n",
    "# add GOOG = 200\n",
    "stock_earning['GOOG'] = 200\n",
    "print(stock_earning)\n",
    "# add GOOG as in [1.2,4.4,6]\n",
    "stock_earning['GOOG'] = np.array([1.2,4.4,6.])\n",
    "print(stock_earning)"
   ]
  },
  {
   "cell_type": "markdown",
   "metadata": {},
   "source": [
    "If we switch the value 200 for 'GOOG' with numpy array [1.2,4.4,6.] it would be the code above. If we want to add the numpy array to key 'GOOG' so that the corresponding value includes 200 and the numpy array, I don't think it will work, because in dictionary, the value for a key can only be a single data type. In the case, there are two datatypes: integer and array."
   ]
  }
 ],
 "metadata": {
  "kernelspec": {
   "display_name": "Python 3",
   "language": "python",
   "name": "python3"
  },
  "language_info": {
   "codemirror_mode": {
    "name": "ipython",
    "version": 3
   },
   "file_extension": ".py",
   "mimetype": "text/x-python",
   "name": "python",
   "nbconvert_exporter": "python",
   "pygments_lexer": "ipython3",
   "version": "3.6.5"
  }
 },
 "nbformat": 4,
 "nbformat_minor": 2
}
