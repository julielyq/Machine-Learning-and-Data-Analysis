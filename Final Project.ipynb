{
 "cells": [
  {
   "cell_type": "markdown",
   "metadata": {},
   "source": [
    "# Machine Learning Project -- Red Wine Quality Dataset"
   ]
  },
  {
   "cell_type": "markdown",
   "metadata": {},
   "source": [
    "### Team member: Danling Ma, Yunqiu(Julie) Li, Xuyuan Zhang, Xuanbo Mao"
   ]
  },
  {
   "cell_type": "markdown",
   "metadata": {},
   "source": [
    "## Description of Data"
   ]
  },
  {
   "cell_type": "markdown",
   "metadata": {},
   "source": [
    "* The Red Wine Dataset contains 12 attributes and 1599 different varieties. \n",
    "* All wines evaluated are produced in a particular area of Portugal. \n",
    "* Data are collected on 12 different properties of the wines one of which is quality, based on sensory data, and the rest are on chemical properties of the wines including density, acidity, alcohol content etc. \n",
    "* All chemical properties of wines are continuous variables. \n",
    "* Quality is an ordinal variable with possible ranking from 1 (worst) to 10 (best). \n",
    "* Each variety of wine is tasted by three independent tasters and the final rank assigned is the median rank given by the tasters.\n",
    "\n",
    "* Predictors in our analysis:  11 typles of Wine chemical composition.\n",
    "* Computed output in our analysis: estimated wine quality."
   ]
  },
  {
   "cell_type": "markdown",
   "metadata": {},
   "source": [
    "## Load tools"
   ]
  },
  {
   "cell_type": "code",
   "execution_count": 7,
   "metadata": {},
   "outputs": [],
   "source": [
    "#Basic\n",
    "%matplotlib inline\n",
    "import pandas as pd\n",
    "import numpy as np\n",
    "import matplotlib as mpl\n",
    "import matplotlib.pyplot as plt\n",
    "import  seaborn as sns\n",
    "\n",
    "#tools\n",
    "\n",
    "from sklearn.model_selection import train_test_split\n",
    "from sklearn.linear_model import Ridge\n",
    "from sklearn.linear_model import Lasso\n",
    "\n",
    "# cross validation machinery\n",
    "from sklearn.model_selection import cross_val_score\n",
    "from sklearn.model_selection import ShuffleSplit"
   ]
  },
  {
   "cell_type": "markdown",
   "metadata": {},
   "source": [
    "## Load and process data"
   ]
  },
  {
   "cell_type": "code",
   "execution_count": 8,
   "metadata": {},
   "outputs": [
    {
     "name": "stdout",
     "output_type": "stream",
     "text": [
      "Data shape: (1599, 12)\n"
     ]
    },
    {
     "data": {
      "text/plain": [
       "<matplotlib.axes._subplots.AxesSubplot at 0x10a480908>"
      ]
     },
     "execution_count": 8,
     "metadata": {},
     "output_type": "execute_result"
    },
    {
     "data": {
      "image/png": "[encoded data removed]",
      "text/plain": [
       "<Figure size 432x288 with 1 Axes>"
      ]
     },
     "metadata": {},
     "output_type": "display_data"
    }
   ],
   "source": [
    "Redwine = pd.read_csv(\"winequality-red.csv\")\n",
    "sns.countplot(Redwine['quality'])\n",
    "# check size of dataset\n",
    "print(\"Data shape: {}\".format(Redwine.shape))\n",
    "# assign value of 11 physiochemical as X\n",
    "X = Redwine.values[:,0:11].copy()\n",
    "# assign value of wine quality as y\n",
    "y = Redwine.quality.values\n",
    "# display 11 physiochemical\n",
    "list(Redwine)\n",
    "# get a sense of how wine quality distributed in dataset\n",
    "sns.countplot(Redwine['quality'])"
   ]
  },
  {
   "cell_type": "markdown",
   "metadata": {},
   "source": [
    "### Set up a binary classifier"
   ]
  },
  {
   "cell_type": "code",
   "execution_count": 9,
   "metadata": {},
   "outputs": [
    {
     "name": "stdout",
     "output_type": "stream",
     "text": [
      "0.5347091932457786\n"
     ]
    }
   ],
   "source": [
    "#Set an arbitrary cutoff for good wine quality at 5 or higher\n",
    "ybin = y > 5\n",
    "print(np.mean(ybin))\n",
    "Redwine['goodquality'] = ybin"
   ]
  },
  {
   "cell_type": "code",
   "execution_count": 10,
   "metadata": {},
   "outputs": [
    {
     "data": {
      "text/html": [
       "<div>\n",
       "<style scoped>\n",
       "    .dataframe tbody tr th:only-of-type {\n",
       "        vertical-align: middle;\n",
       "    }\n",
       "\n",
       "    .dataframe tbody tr th {\n",
       "        vertical-align: top;\n",
       "    }\n",
       "\n",
       "    .dataframe thead th {\n",
       "        text-align: right;\n",
       "    }\n",
       "</style>\n",
       "<table border=\"1\" class=\"dataframe\">\n",
       "  <thead>\n",
       "    <tr style=\"text-align: right;\">\n",
       "      <th></th>\n",
       "      <th>fixedAcidity</th>\n",
       "      <th>volatileAcidity</th>\n",
       "      <th>citricAcid</th>\n",
       "      <th>residualSugar</th>\n",
       "      <th>chlorides</th>\n",
       "      <th>freeSulfurDioxide</th>\n",
       "      <th>totalSulfurDioxide</th>\n",
       "      <th>density</th>\n",
       "      <th>pH</th>\n",
       "      <th>sulphates</th>\n",
       "      <th>alcohol</th>\n",
       "      <th>quality</th>\n",
       "      <th>goodquality</th>\n",
       "    </tr>\n",
       "  </thead>\n",
       "  <tbody>\n",
       "    <tr>\n",
       "      <th>0</th>\n",
       "      <td>7.4</td>\n",
       "      <td>0.70</td>\n",
       "      <td>0.00</td>\n",
       "      <td>1.9</td>\n",
       "      <td>0.076</td>\n",
       "      <td>11.0</td>\n",
       "      <td>34.0</td>\n",
       "      <td>0.9978</td>\n",
       "      <td>3.51</td>\n",
       "      <td>0.56</td>\n",
       "      <td>9.4</td>\n",
       "      <td>5</td>\n",
       "      <td>False</td>\n",
       "    </tr>\n",
       "    <tr>\n",
       "      <th>1</th>\n",
       "      <td>7.8</td>\n",
       "      <td>0.88</td>\n",
       "      <td>0.00</td>\n",
       "      <td>2.6</td>\n",
       "      <td>0.098</td>\n",
       "      <td>25.0</td>\n",
       "      <td>67.0</td>\n",
       "      <td>0.9968</td>\n",
       "      <td>3.20</td>\n",
       "      <td>0.68</td>\n",
       "      <td>9.8</td>\n",
       "      <td>5</td>\n",
       "      <td>False</td>\n",
       "    </tr>\n",
       "    <tr>\n",
       "      <th>2</th>\n",
       "      <td>7.8</td>\n",
       "      <td>0.76</td>\n",
       "      <td>0.04</td>\n",
       "      <td>2.3</td>\n",
       "      <td>0.092</td>\n",
       "      <td>15.0</td>\n",
       "      <td>54.0</td>\n",
       "      <td>0.9970</td>\n",
       "      <td>3.26</td>\n",
       "      <td>0.65</td>\n",
       "      <td>9.8</td>\n",
       "      <td>5</td>\n",
       "      <td>False</td>\n",
       "    </tr>\n",
       "    <tr>\n",
       "      <th>3</th>\n",
       "      <td>11.2</td>\n",
       "      <td>0.28</td>\n",
       "      <td>0.56</td>\n",
       "      <td>1.9</td>\n",
       "      <td>0.075</td>\n",
       "      <td>17.0</td>\n",
       "      <td>60.0</td>\n",
       "      <td>0.9980</td>\n",
       "      <td>3.16</td>\n",
       "      <td>0.58</td>\n",
       "      <td>9.8</td>\n",
       "      <td>6</td>\n",
       "      <td>True</td>\n",
       "    </tr>\n",
       "    <tr>\n",
       "      <th>4</th>\n",
       "      <td>7.4</td>\n",
       "      <td>0.70</td>\n",
       "      <td>0.00</td>\n",
       "      <td>1.9</td>\n",
       "      <td>0.076</td>\n",
       "      <td>11.0</td>\n",
       "      <td>34.0</td>\n",
       "      <td>0.9978</td>\n",
       "      <td>3.51</td>\n",
       "      <td>0.56</td>\n",
       "      <td>9.4</td>\n",
       "      <td>5</td>\n",
       "      <td>False</td>\n",
       "    </tr>\n",
       "  </tbody>\n",
       "</table>\n",
       "</div>"
      ],
      "text/plain": [
       "   fixedAcidity  volatileAcidity  citricAcid  residualSugar  chlorides  \\\n",
       "0           7.4             0.70        0.00            1.9      0.076   \n",
       "1           7.8             0.88        0.00            2.6      0.098   \n",
       "2           7.8             0.76        0.04            2.3      0.092   \n",
       "3          11.2             0.28        0.56            1.9      0.075   \n",
       "4           7.4             0.70        0.00            1.9      0.076   \n",
       "\n",
       "   freeSulfurDioxide  totalSulfurDioxide  density    pH  sulphates  alcohol  \\\n",
       "0               11.0                34.0   0.9978  3.51       0.56      9.4   \n",
       "1               25.0                67.0   0.9968  3.20       0.68      9.8   \n",
       "2               15.0                54.0   0.9970  3.26       0.65      9.8   \n",
       "3               17.0                60.0   0.9980  3.16       0.58      9.8   \n",
       "4               11.0                34.0   0.9978  3.51       0.56      9.4   \n",
       "\n",
       "   quality  goodquality  \n",
       "0        5        False  \n",
       "1        5        False  \n",
       "2        5        False  \n",
       "3        6         True  \n",
       "4        5        False  "
      ]
     },
     "execution_count": 10,
     "metadata": {},
     "output_type": "execute_result"
    }
   ],
   "source": [
    "# display dataframe in nice table just to see\n",
    "Redwine.head()"
   ]
  },
  {
   "cell_type": "markdown",
   "metadata": {},
   "source": [
    "### Compare ridge and lasso on some simulated data with a large number of forecasters (right hand side) variables. Run monte-carlos to compare the two. Are there differences? Can you make any statements about which is preferred?"
   ]
  },
  {
   "cell_type": "code",
   "execution_count": 5,
   "metadata": {},
   "outputs": [
    {
     "data": {
      "text/plain": [
       "<matplotlib.legend.Legend at 0x10b9c1828>"
      ]
     },
     "execution_count": 5,
     "metadata": {},
     "output_type": "execute_result"
    },
    {
     "data": {
      "image/png": "[encoded data removed]",
      "text/plain": [
       "<Figure size 432x288 with 1 Axes>"
      ]
     },
     "metadata": {},
     "output_type": "display_data"
    }
   ],
   "source": [
    "# Ridge Regression\n",
    "nmc = 100\n",
    "testScoreList = []\n",
    "trainScoreList = []\n",
    "testScore = np.zeros(nmc)\n",
    "trainScore = np.zeros(nmc)\n",
    "alpha_range = range(1,26)\n",
    "\n",
    "for i in alpha_range:\n",
    "    ridge = Ridge(alpha=i)\n",
    "    for i in range(nmc):\n",
    "        X_train, X_test, y_train, y_test = train_test_split(X,y,test_size=0.25)\n",
    "        ridge.fit(X_train, y_train)\n",
    "        testScore[i]= ridge.score(X_test,y_test)\n",
    "        trainScore[i]=ridge.score(X_train,y_train)\n",
    "    trainScoreList.append(np.mean(trainScore))\n",
    "    testScoreList.append(np.mean(testScore))\n",
    "plt.plot(alpha_range,trainScoreList,label = 'Train Score')\n",
    "plt.plot(alpha_range,testScoreList,label = 'Test Score')\n",
    "plt.xlabel(\"Alpha\")\n",
    "plt.ylabel(\"R-squared\")\n",
    "plt.grid()\n",
    "plt.legend()"
   ]
  },
  {
   "cell_type": "code",
   "execution_count": 6,
   "metadata": {},
   "outputs": [
    {
     "data": {
      "text/plain": [
       "<matplotlib.legend.Legend at 0x10ba51390>"
      ]
     },
     "execution_count": 6,
     "metadata": {},
     "output_type": "execute_result"
    },
    {
     "data": {
      "image/png": "[encoded data removed]",
      "text/plain": [
       "<Figure size 432x288 with 1 Axes>"
      ]
     },
     "metadata": {},
     "output_type": "display_data"
    }
   ],
   "source": [
    "# lasso regression\n",
    "nmc = 100\n",
    "testScoreList = []\n",
    "trainScoreList = []\n",
    "testScore = np.zeros(nmc)\n",
    "trainScore = np.zeros(nmc)\n",
    "alpha_range = np.arange(0.01,0.03,0.0005)\n",
    "for i in alpha_range:\n",
    "    ridge = Ridge(alpha=i)\n",
    "    for i in range(nmc):\n",
    "        X_train, X_test, y_train, y_test = train_test_split(X,y,test_size=0.25)\n",
    "        ridge.fit(X_train, y_train)\n",
    "        testScore[i]= ridge.score(X_test,y_test)\n",
    "        trainScore[i]=ridge.score(X_train,y_train)\n",
    "    trainScoreList.append(np.mean(trainScore))\n",
    "    testScoreList.append(np.mean(testScore))\n",
    "plt.plot(alpha_range,trainScoreList,label = 'Train Score')\n",
    "plt.plot(alpha_range,testScoreList,label = 'Test Score')\n",
    "plt.xlabel(\"Alpha\")\n",
    "plt.ylabel(\"R-squared\")\n",
    "plt.grid()\n",
    "plt.legend()"
   ]
  },
  {
   "cell_type": "markdown",
   "metadata": {},
   "source": [
    "In ridge regression, the R-square keeps decreasing when we increase the penalty. However, the increase of penalty does not have a significant effect on R-square in lasso regression. The R-square drops a little when alpha increases, but when alpha reaches a certain level, R-square rebounds and starts the circle again. We think this is because the lasso model penalizes the coefficient to zero and when a variable is omitted, the R-square would bounce back.  We recommend the lasso model because in this case, some x variables may not have a direct influence on wine quality and these variables could be omitted. Also, compared with ridge model, lasso model almost always has a better fit for test data when penalty varies."
   ]
  },
  {
   "cell_type": "markdown",
   "metadata": {},
   "source": [
    "### Try finding a set of neural networks rather than a single one, but estimating with different random seeds. Build your model as an average of the group."
   ]
  },
  {
   "cell_type": "code",
   "execution_count": 11,
   "metadata": {},
   "outputs": [
    {
     "name": "stdout",
     "output_type": "stream",
     "text": [
      "Accuracy on training set: 0.70\n",
      "Accuracy on test set: 0.71\n"
     ]
    },
    {
     "name": "stderr",
     "output_type": "stream",
     "text": [
      "/anaconda3/lib/python3.6/site-packages/sklearn/preprocessing/label.py:151: DeprecationWarning: The truth value of an empty array is ambiguous. Returning False, but in future this will result in an error. Use `array.size > 0` to check that an array is not empty.\n",
      "  if diff:\n",
      "/anaconda3/lib/python3.6/site-packages/sklearn/preprocessing/label.py:151: DeprecationWarning: The truth value of an empty array is ambiguous. Returning False, but in future this will result in an error. Use `array.size > 0` to check that an array is not empty.\n",
      "  if diff:\n"
     ]
    }
   ],
   "source": [
    "from sklearn.neural_network import MLPClassifier\n",
    "from sklearn.ensemble import VotingClassifier\n",
    "\n",
    "random_seeds = [0, 5, 10]\n",
    "X_train, X_test, y_train, y_test = train_test_split(X, ybin, random_state=0)\n",
    "mlp1 = MLPClassifier(random_state=0)\n",
    "mlp2 = MLPClassifier(random_state=5)\n",
    "mlp3 = MLPClassifier(random_state=10)\n",
    "# use voting clasifier to build model as an average of 3 mpl classifier with different random seeds\n",
    "avg_model = VotingClassifier(estimators=[('model1', mlp1), ('model2', mlp2), ('model3', mlp3)], voting='soft', weights=[1, 1, 1])\n",
    "avg_model = avg_model.fit(X_train, y_train)\n",
    "\n",
    "print(\"Accuracy on training set: {:.2f}\".format(avg_model.score(X_train, y_train)))\n",
    "print(\"Accuracy on test set: {:.2f}\".format(avg_model.score(X_test, y_test)))"
   ]
  },
  {
   "cell_type": "markdown",
   "metadata": {},
   "source": [
    "We can tell from the above result that the overall fitness on training and testing data using MLPClassifier improve significanly compared with the results generated from Ridge and Lasso regresssion. Therefore, the neural network model is more preferable."
   ]
  },
  {
   "cell_type": "markdown",
   "metadata": {},
   "source": [
    "### Explore neural network complexity by adding extra width and depth. Plot test sample performance both for increasing width, and increasing depth. Use any of the basic monte-carlos we used in class, or build your own."
   ]
  },
  {
   "cell_type": "code",
   "execution_count": 12,
   "metadata": {},
   "outputs": [
    {
     "name": "stdout",
     "output_type": "stream",
     "text": [
      "For neural network size: (1,)\n",
      "Accuracy on training set: 0.47\n",
      "Accuracy on test set: 0.46\n",
      "For neural network size: (1, 1)\n",
      "Accuracy on training set: 0.47\n",
      "Accuracy on test set: 0.46\n",
      "For neural network size: (1, 1, 1)\n",
      "Accuracy on training set: 0.53\n",
      "Accuracy on test set: 0.54\n",
      "For neural network size: (10,)\n",
      "Accuracy on training set: 0.70\n",
      "Accuracy on test set: 0.71\n",
      "For neural network size: (10, 10)\n",
      "Accuracy on training set: 0.71\n",
      "Accuracy on test set: 0.73\n",
      "For neural network size: (10, 10, 10)\n",
      "Accuracy on training set: 0.65\n",
      "Accuracy on test set: 0.62\n",
      "For neural network size: (100,)\n",
      "Accuracy on training set: 0.69\n",
      "Accuracy on test set: 0.68\n",
      "For neural network size: (100, 100)\n",
      "Accuracy on training set: 0.69\n",
      "Accuracy on test set: 0.66\n",
      "For neural network size: (100, 100, 100)\n",
      "Accuracy on training set: 0.73\n",
      "Accuracy on test set: 0.69\n"
     ]
    }
   ],
   "source": [
    "neural_network_sizes = [(1,), (1,1), (1,1,1), (10,), (10,10), (10,10,10), (100,), (100,100), (100,100,100)]\n",
    "\n",
    "for size in neural_network_sizes:\n",
    "    nmc = 100\n",
    "    train_scores = np.zeros(nmc)\n",
    "    test_scores  = np.zeros(nmc)\n",
    "    for i in range(nmc):\n",
    "        X_train, X_test, y_train, y_test = train_test_split(X, ybin, random_state=0)\n",
    "        mlp = MLPClassifier(max_iter=1000,hidden_layer_sizes=size, random_state=42)\n",
    "        mlp.fit(X_train, y_train)\n",
    "        train_scores[i] = mlp.score(X_train, y_train)\n",
    "        test_scores[i] = mlp.score(X_test, y_test)\n",
    "\n",
    "    print(\"For neural network size: \" + str(size))\n",
    "    print(\"Accuracy on training set: {:.2f}\".format(np.mean(train_scores)))\n",
    "    print(\"Accuracy on test set: {:.2f}\".format(np.mean(test_scores)))\n"
   ]
  },
  {
   "cell_type": "markdown",
   "metadata": {},
   "source": [
    "When width = 1, as we increase the depth of neural network from 1 to 10 and then 100, the accuracy for test data increase and then decrease, which suggests that a model with depth of 100 would be too complex and a model with depth of 10 would probably be the ballpark we should aim for. As we increase the width of neural network to 3, we can notice that the fitness for test data starts to decrease. Based on above result, a neural network model with depth of 10 and width of 10 would be the most preferable."
   ]
  },
  {
   "cell_type": "markdown",
   "metadata": {},
   "source": [
    "### Is it possible to overfit your data even when using careful random train/test splits? In other words, would you recommend a special hold out sample be reserved for final model testing?"
   ]
  },
  {
   "cell_type": "markdown",
   "metadata": {},
   "source": [
    "Yes, we can hold out more subset of the data to test the model further. Because when we build up models, there is always a need to validate the stability of the machine learning model. We need an assurance that the model got most of the patterns from the data correct and not picked up too much on the noise. So when building a machine learning model using some data, we often split our data into training and validation/test sets. The training set is used to train the model, and the validation/test set is used to validate it on data it has never seen before. Practically, we can do 3, 5, 10 or any K-fold of splits. The reason why we need more subset of the data to test the model is that there might be a possibility that both our training data and validation set catch up the data that has similar performance on the model, which causes the score of validation set are close to the score of training set. This may lead us to an illusion that our model is not under/overfitting. By having one more set of data(test data) to test the model, we can lower the 'selection bias' so that to lower the possibility that the model is overfitting. This is called 'Cross Validation', a very useful technique for assessing the effectiveness of your model, particularly in cases where we need to deal with overfitting."
   ]
  }
 ],
 "metadata": {
  "kernelspec": {
   "display_name": "Python 3",
   "language": "python",
   "name": "python3"
  },
  "language_info": {
   "codemirror_mode": {
    "name": "ipython",
    "version": 3
   },
   "file_extension": ".py",
   "mimetype": "text/x-python",
   "name": "python",
   "nbconvert_exporter": "python",
   "pygments_lexer": "ipython3",
   "version": "3.6.5"
  }
 },
 "nbformat": 4,
 "nbformat_minor": 2
}
